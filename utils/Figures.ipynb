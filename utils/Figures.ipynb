{
 "cells": [
  {
   "cell_type": "code",
   "execution_count": 14,
   "metadata": {},
   "outputs": [],
   "source": [
    "import matplotlib.pyplot as plt\n",
    "from scipy import stats\n",
    "import pandas as pd\n",
    "from scipy import stats\n",
    "import collections\n",
    "import numpy as np"
   ]
  },
  {
   "cell_type": "code",
   "execution_count": null,
   "metadata": {},
   "outputs": [],
   "source": []
  },
  {
   "cell_type": "code",
   "execution_count": 15,
   "metadata": {},
   "outputs": [],
   "source": [
    "P = np.array([[0.8,0.1,0.1],\n",
    "[0.6,0.3,0.1],\n",
    "[0.2,0.3,0.5]])"
   ]
  },
  {
   "cell_type": "code",
   "execution_count": 16,
   "metadata": {},
   "outputs": [],
   "source": [
    "%matplotlib inline"
   ]
  },
  {
   "cell_type": "code",
   "execution_count": 17,
   "metadata": {},
   "outputs": [],
   "source": [
    "#P=intensity"
   ]
  },
  {
   "cell_type": "code",
   "execution_count": 36,
   "metadata": {},
   "outputs": [
    {
     "data": {
      "image/png": "[encoded data removed]",
      "text/plain": [
       "<Figure size 360x360 with 4 Axes>"
      ]
     },
     "metadata": {
      "needs_background": "light"
     },
     "output_type": "display_data"
    }
   ],
   "source": [
    "from matplotlib import cm\n",
    "\n",
    "def post_process_ax(x,y,P,title):\n",
    "    ax[x,y].matshow(P, cmap=cm.hot) \n",
    "    ax[x,y].set_title(title)\n",
    "    plt.setp(ax[x,y].get_xticklabels(), visible=False)\n",
    "    plt.setp(ax[x,y].get_yticklabels(), visible=False)\n",
    "    ax[x,y].tick_params(axis='both', which='both', length=0)\n",
    "\n",
    "\n",
    "fig, ax = plt.subplots(nrows=2, ncols=2,figsize=(5,5))\n",
    "fig.tight_layout()\n",
    "plt.tight_layout()\n",
    "\n",
    "post_process_ax(0,0,P,'$P_b$ before')\n",
    "post_process_ax(0,1,P,'$P_b$ after')\n",
    "#plt.colorbar(im)\n",
    "post_process_ax(1,0,P,'$P_r$ before')\n",
    "post_process_ax(1,1,P,'$P_r$ after')\n",
    "\n",
    "plt.show()"
   ]
  },
  {
   "cell_type": "code",
   "execution_count": 53,
   "metadata": {},
   "outputs": [],
   "source": [
    "def autolabel(rects):\n",
    "    \"\"\"\n",
    "    Attach a text label above each bar displaying its height\n",
    "    \"\"\"\n",
    "    for rect in rects:\n",
    "        height = rect.get_height()\n",
    "        ax.text(rect.get_x() + rect.get_width()/2., 1.05*height,\n",
    "                '%d' % int(height),\n",
    "                ha='center', va='bottom')\n",
    "\n",
    "\n",
    "def plot_budget_reward(ax, graph_title, budgets, methods, budget_method_reward,show_legend=False,show_x=False,show_y=True):\n",
    "    N = len(budgets)\n",
    "\n",
    "    ind = np.arange(N)  # the x locations for the groups\n",
    "    width = 0.2       # the width of the bars\n",
    "    \n",
    "    colors = ['r','b','g']\n",
    "    \n",
    "    rectss = [] \n",
    "    method_means = collections.defaultdict(list)\n",
    "    method_stds = collections.defaultdict(list)\n",
    "    for i,budget in enumerate(budgets):\n",
    "        for j,method in enumerate(methods):\n",
    "            rewards = budget_method_reward[budget][method]\n",
    "        \n",
    "            method_means[method].append(np.mean(rewards))\n",
    "            method_stds[method].append(np.std(rewards))\n",
    "            \n",
    "    for i,method in enumerate(methods):\n",
    "        rects = ax.bar(ind+(i-1)*width, method_means[method], width, color=colors[i], yerr=method_stds[method])\n",
    "        rectss.append(rects)\n",
    "            \n",
    "            \n",
    "    # add some text for labels, title and axes ticks\n",
    "    \n",
    "    if show_x:\n",
    "        ax.set_xlabel('Budget, $B$')\n",
    "    else:\n",
    "        plt.setp(ax.get_xticklabels(), visible=False)\n",
    "        ax.tick_params(axis='x', which='both', length=0)\n",
    "        \n",
    "    if show_y:\n",
    "        ax.set_ylabel('Expected Group utility, $U_g$')\n",
    "    else:\n",
    "        plt.setp(ax.get_yticklabels(), visible=False)\n",
    "        ax.tick_params(axis='y', which='both', length=0)\n",
    "        \n",
    "    \n",
    "    \n",
    "    \n",
    "    \n",
    "    ax.set_title(graph_title)\n",
    "    \n",
    "    ax.set_xticks(ind + width / 2)\n",
    "    ax.set_xticklabels(tuple(budgets))\n",
    "        \n",
    "    if show_legend:\n",
    "        ax.legend(tuple([z[0] for z in rectss]), tuple(methods))\n",
    "    \n",
    "#     for rects in rectss:\n",
    "#         autolabel(rects)\n",
    "        \n"
   ]
  },
  {
   "cell_type": "code",
   "execution_count": 54,
   "metadata": {},
   "outputs": [],
   "source": [
    "budgets = [25,50,75,100]\n",
    "methods = ['Orginal', 'Baseline', 'MRP']"
   ]
  },
  {
   "cell_type": "code",
   "execution_count": 55,
   "metadata": {},
   "outputs": [],
   "source": [
    "budget_method_reward = {\n",
    "    25:{\n",
    "        'Orginal':[1,1,1,1,1,1],\n",
    "        'Baseline':[1,1,1,1,1,1],\n",
    "        'MRP':[1,1,1,1,1,1]\n",
    "    },\n",
    "    50:{\n",
    "        'Orginal':[.4,0.2,0.5,0.2,0.3,0.1],\n",
    "        'Baseline':[0.9,1,1.1,1,1,1],\n",
    "        'MRP':[1,1,1,1,1,.8]\n",
    "    },\n",
    "    75:{\n",
    "        'Orginal':[1,1,1,1.1,1,1],\n",
    "        'Baseline':[.4,0.2,0.5,0.2,0.3,0.1],\n",
    "        'MRP':[1,1,1,1,1.2,1]\n",
    "    },\n",
    "    100:{\n",
    "        'Orginal':[.4,0.2,0.5,0.2,0.3,0.1,1,1,1],\n",
    "        'Baseline':[1,1,1,1,1,1],\n",
    "        'MRP':[.4,0.2,0.5,0.2,0.3,0.1]\n",
    "    }\n",
    "}"
   ]
  },
  {
   "cell_type": "code",
   "execution_count": 57,
   "metadata": {},
   "outputs": [
    {
     "data": {
      "image/png": "[encoded data removed]",
      "text/plain": [
       "<Figure size 1440x360 with 10 Axes>"
      ]
     },
     "metadata": {
      "needs_background": "light"
     },
     "output_type": "display_data"
    }
   ],
   "source": [
    "fig, ax = plt.subplots(nrows=2, ncols=5,figsize=(20,5))\n",
    "\n",
    "plot_budget_reward(ax[0,0], 'SBM', budgets, methods, budget_method_reward,show_legend=True,show_x=False,show_y=True)\n",
    "plot_budget_reward(ax[0,1], 'ER', budgets, methods, budget_method_reward,show_legend=False,show_x=False,show_y=False)\n",
    "plot_budget_reward(ax[0,2], 'SBM', budgets, methods, budget_method_reward,show_legend=False,show_x=False,show_y=False)\n",
    "plot_budget_reward(ax[0,3], 'SBM', budgets, methods, budget_method_reward,show_legend=False,show_x=False,show_y=False)\n",
    "plot_budget_reward(ax[0,4], 'SBM', budgets, methods, budget_method_reward,show_legend=False,show_x=False,show_y=False)\n",
    "plot_budget_reward(ax[1,0], 'SBM', budgets, methods, budget_method_reward,show_legend=False,show_x=True,show_y=True)\n",
    "plot_budget_reward(ax[1,1], 'SBM', budgets, methods, budget_method_reward,show_legend=False,show_x=True,show_y=False)\n",
    "plot_budget_reward(ax[1,2], 'SBM', budgets, methods, budget_method_reward,show_legend=False,show_x=True,show_y=False)\n",
    "plot_budget_reward(ax[1,3], 'SBM', budgets, methods, budget_method_reward,show_legend=False,show_x=True,show_y=False)\n",
    "plot_budget_reward(ax[1,4], 'SBM', budgets, methods, budget_method_reward,show_legend=False,show_x=True,show_y=False)\n",
    "plt.show()"
   ]
  },
  {
   "cell_type": "code",
   "execution_count": null,
   "metadata": {},
   "outputs": [],
   "source": []
  },
  {
   "cell_type": "code",
   "execution_count": 23,
   "metadata": {},
   "outputs": [
    {
     "name": "stdout",
     "output_type": "stream",
     "text": [
      "[0 1 2 3 4]\n",
      "women_std: (3, 5, 2, 3, 3)\n"
     ]
    },
    {
     "data": {
      "image/png": "[encoded data removed]",
      "text/plain": [
       "<Figure size 432x288 with 1 Axes>"
      ]
     },
     "metadata": {
      "needs_background": "light"
     },
     "output_type": "display_data"
    }
   ],
   "source": [
    "\"\"\"\n",
    "========\n",
    "Barchart\n",
    "========\n",
    "\n",
    "A bar plot with errorbars and height labels on individual bars\n",
    "\"\"\"\n",
    "import numpy as np\n",
    "import matplotlib.pyplot as plt\n",
    "\n",
    "N = 5\n",
    "men_means = (20, 35, 30, 35, 27)\n",
    "men_std = (2, 3, 4, 1, 2)\n",
    "\n",
    "ind = np.arange(N)  # the x locations for the groups\n",
    "width = 0.35       # the width of the bars\n",
    "\n",
    "print(ind)\n",
    "\n",
    "fig, ax = plt.subplots()\n",
    "rects1 = ax.bar(ind, men_means, width, color='r', yerr=men_std)\n",
    "\n",
    "women_means = (25, 32, 34, 20, 25)\n",
    "women_std = (3, 5, 2, 3, 3)\n",
    "rects2 = ax.bar(ind + width, women_means, width, color='y', yerr=women_std)\n",
    "\n",
    "print('women_std:',women_std)\n",
    "# add some text for labels, title and axes ticks\n",
    "ax.set_ylabel('Expected Group utility, $U_g$')\n",
    "ax.set_title('Scores by group and gender')\n",
    "ax.set_xticks(ind + width / 2)\n",
    "ax.set_xticklabels(('G1', 'G2', 'G3', 'G4', 'G5'))\n",
    "\n",
    "ax.legend((rects1[0], rects2[0]), ('Men', 'Women'))\n",
    "\n",
    "\n",
    "def autolabel(rects):\n",
    "    \"\"\"\n",
    "    Attach a text label above each bar displaying its height\n",
    "    \"\"\"\n",
    "    for rect in rects:\n",
    "        height = rect.get_height()\n",
    "        ax.text(rect.get_x() + rect.get_width()/2., 1.05*height,\n",
    "                '%d' % int(height),\n",
    "                ha='center', va='bottom')\n",
    "\n",
    "autolabel(rects1)\n",
    "autolabel(rects2)\n",
    "\n",
    "plt.show()"
   ]
  },
  {
   "cell_type": "code",
   "execution_count": null,
   "metadata": {},
   "outputs": [],
   "source": []
  },
  {
   "cell_type": "code",
   "execution_count": 24,
   "metadata": {},
   "outputs": [
    {
     "data": {
      "image/png": "[encoded data removed]",
      "text/plain": [
       "<Figure size 432x288 with 2 Axes>"
      ]
     },
     "metadata": {
      "needs_background": "light"
     },
     "output_type": "display_data"
    }
   ],
   "source": [
    "import matplotlib.pyplot as plt\n",
    "import numpy as np\n",
    "import math\n",
    "\n",
    "#POINT DATASET\n",
    "x=[20,28,15,20,18,25,15,18,18,20,25,30,25,22,30,22,38,40,38,30,22,20,35,33,35]\n",
    "y=[20,14,15,20,15,20,32,33,45,50,20,20,20,25,30,38,20,28,33,50,48,40,30,35,36]\n",
    "\n",
    "#DEFINE GRID SIZE AND RADIUS(h)\n",
    "grid_size=1\n",
    "h=10\n",
    "\n",
    "#GETTING X,Y MIN AND MAX\n",
    "x_min=min(x)\n",
    "x_max=max(x)\n",
    "y_min=min(y)\n",
    "y_max=max(y)\n",
    "\n",
    "#CONSTRUCT GRID\n",
    "x_grid=np.arange(x_min-h,x_max+h,grid_size)\n",
    "y_grid=np.arange(y_min-h,y_max+h,grid_size)\n",
    "x_mesh,y_mesh=np.meshgrid(x_grid,y_grid)\n",
    "\n",
    "#GRID CENTER POINT\n",
    "xc=x_mesh+(grid_size/2)\n",
    "yc=y_mesh+(grid_size/2)\n",
    "\n",
    "#FUNCTION TO CALCULATE INTENSITY WITH QUARTIC KERNEL\n",
    "def kde_quartic(d,h):\n",
    "    dn=d/h\n",
    "    P=(15/16)*(1-dn**2)**2\n",
    "    return P\n",
    "\n",
    "#PROCESSING\n",
    "intensity_list=[]\n",
    "for j in range(len(xc)):\n",
    "    intensity_row=[]\n",
    "    for k in range(len(xc[0])):\n",
    "        kde_value_list=[]\n",
    "        for i in range(len(x)):\n",
    "            #CALCULATE DISTANCE\n",
    "            d=math.sqrt((xc[j][k]-x[i])**2+(yc[j][k]-y[i])**2) \n",
    "            if d<=h:\n",
    "                p=kde_quartic(d,h)\n",
    "            else:\n",
    "                p=0\n",
    "            kde_value_list.append(p)\n",
    "        #SUM ALL INTENSITY VALUE\n",
    "        p_total=sum(kde_value_list)\n",
    "        intensity_row.append(p_total)\n",
    "    intensity_list.append(intensity_row)\n",
    "\n",
    "#HEATMAP OUTPUT    \n",
    "intensity=np.array(intensity_list)\n",
    "plt.pcolormesh(x_mesh,y_mesh,intensity)\n",
    "plt.plot(x,y,'ro')\n",
    "plt.colorbar()\n",
    "plt.show()"
   ]
  },
  {
   "cell_type": "code",
   "execution_count": null,
   "metadata": {},
   "outputs": [],
   "source": []
  },
  {
   "cell_type": "code",
   "execution_count": null,
   "metadata": {},
   "outputs": [],
   "source": []
  }
 ],
 "metadata": {
  "kernelspec": {
   "display_name": "Python 3",
   "language": "python",
   "name": "python3"
  },
  "language_info": {
   "codemirror_mode": {
    "name": "ipython",
    "version": 3
   },
   "file_extension": ".py",
   "mimetype": "text/x-python",
   "name": "python",
   "nbconvert_exporter": "python",
   "pygments_lexer": "ipython3",
   "version": "3.6.10"
  }
 },
 "nbformat": 4,
 "nbformat_minor": 2
}
